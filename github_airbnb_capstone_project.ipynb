{
  "nbformat": 4,
  "nbformat_minor": 0,
  "metadata": {
    "kernelspec": {
      "display_name": "Python 3",
      "language": "python",
      "name": "python3"
    },
    "language_info": {
      "codemirror_mode": {
        "name": "ipython",
        "version": 3
      },
      "file_extension": ".py",
      "mimetype": "text/x-python",
      "name": "python",
      "nbconvert_exporter": "python",
      "pygments_lexer": "ipython3",
      "version": "3.6.6"
    },
    "colab": {
      "name": "github airbnb capstone project",
      "provenance": [],
      "collapsed_sections": [],
      "include_colab_link": true
    }
  },
  "cells": [
    {
      "cell_type": "markdown",
      "metadata": {
        "id": "view-in-github",
        "colab_type": "text"
      },
      "source": [
        "<a href=\"https://colab.research.google.com/github/pranilthorat/capstone-project-almabetter/blob/main/github_airbnb_capstone_project.ipynb\" target=\"_parent\"><img src=\"https://colab.research.google.com/assets/colab-badge.svg\" alt=\"Open In Colab\"/></a>"
      ]
    },
    {
      "cell_type": "markdown",
      "metadata": {
        "id": "Y06xIdG26kRF"
      },
      "source": [
        "## <b> Since 2008, guests and hosts have used Airbnb to expand on traveling possibilities and present a more unique, personalized way of experiencing the world. Today, Airbnb became one of a kind service that is used and recognized by the whole world. Data analysis on millions of listings provided through Airbnb is a crucial factor for the company. These millions of listings generate a lot of data - data that can be analyzed and used for security, business decisions, understanding of customers' and providers' (hosts) behavior and performance on the platform, guiding marketing initiatives, implementation of innovative additional services and much more. </b>\n",
        "\n",
        "## <b>This dataset has around 49,000 observations in it with 16 columns and it is a mix between categorical and numeric values. </b>\n",
        "\n",
        "## <b> Explore and analyze the data to discover key understandings (not limited to these) such as : \n",
        "* What can we learn about different hosts and areas?\n",
        "* What can we learn from predictions? (ex: locations, prices, reviews, etc)\n",
        "* Which hosts are the busiest and why?\n",
        "* Is there any noticeable difference of traffic among different areas and what could be the reason for it? </b>"
      ]
    },
    {
      "cell_type": "markdown",
      "metadata": {
        "id": "tB7wCL484Up6"
      },
      "source": [
        "* **AIRBNB** is an American company that operates an online marketplace for lodging, primarily homestays for vacation rentals, and tourism activities. Based in San Francisco, California, the platform is accessible via website and mobile app. Airbnb does not own any of the listed properties; instead, it profits by receiving commission from each booking. The company was founded in 2008 by Brian Chesky, Nathan Blecharczyk and Joe Gebbia. Airbnb is a shortened version of its original name, AirBedandBreakfast.com."
      ]
    },
    {
      "cell_type": "code",
      "metadata": {
        "id": "dByMsuzT8Tnw"
      },
      "source": [
        "#import pandas,numpy,seaborn,matplotlib,warnings\n",
        "import pandas as pd\n",
        "import numpy as np\n",
        "import seaborn as sns\n",
        "import matplotlib.pyplot as plt\n",
        "import warnings\n",
        "warnings.filterwarnings(action='ignore')"
      ],
      "execution_count": 28,
      "outputs": []
    },
    {
      "cell_type": "markdown",
      "metadata": {
        "id": "fR-uQ2fs4q0y"
      },
      "source": [
        "Data Frame of Airbnb"
      ]
    },
    {
      "cell_type": "code",
      "metadata": {
        "id": "k3cRYJw25BTW",
        "colab": {
          "base_uri": "https://localhost:8080/"
        },
        "outputId": "3e612496-d947-40f5-9c76-9c80c7057cfe"
      },
      "source": [
        "#mount drive\n",
        "from google.colab import drive\n",
        "drive.mount('/content/drive')"
      ],
      "execution_count": 29,
      "outputs": [
        {
          "output_type": "stream",
          "name": "stdout",
          "text": [
            "Drive already mounted at /content/drive; to attempt to forcibly remount, call drive.mount(\"/content/drive\", force_remount=True).\n"
          ]
        }
      ]
    },
    {
      "cell_type": "code",
      "metadata": {
        "id": "Qrn2oYpN4neX"
      },
      "source": [
        "#dataframe of airbnb_df\n",
        "airbnb=\"/content/drive/MyDrive/Airbnb NYC 2019.csv\"\n",
        "airbnb_df=pd.read_csv(airbnb)\n"
      ],
      "execution_count": 30,
      "outputs": []
    },
    {
      "cell_type": "code",
      "metadata": {
        "id": "sUHT-DB14nrL",
        "colab": {
          "base_uri": "https://localhost:8080/",
          "height": 411
        },
        "outputId": "d947ad7a-0f9f-4801-b1ce-8330a15a4622"
      },
      "source": [
        "#head of airbnb_df\n",
        "airbnb_df.head()"
      ],
      "execution_count": 31,
      "outputs": [
        {
          "output_type": "execute_result",
          "data": {
            "text/html": [
              "<div>\n",
              "<style scoped>\n",
              "    .dataframe tbody tr th:only-of-type {\n",
              "        vertical-align: middle;\n",
              "    }\n",
              "\n",
              "    .dataframe tbody tr th {\n",
              "        vertical-align: top;\n",
              "    }\n",
              "\n",
              "    .dataframe thead th {\n",
              "        text-align: right;\n",
              "    }\n",
              "</style>\n",
              "<table border=\"1\" class=\"dataframe\">\n",
              "  <thead>\n",
              "    <tr style=\"text-align: right;\">\n",
              "      <th></th>\n",
              "      <th>id</th>\n",
              "      <th>name</th>\n",
              "      <th>host_id</th>\n",
              "      <th>host_name</th>\n",
              "      <th>neighbourhood_group</th>\n",
              "      <th>neighbourhood</th>\n",
              "      <th>latitude</th>\n",
              "      <th>longitude</th>\n",
              "      <th>room_type</th>\n",
              "      <th>price</th>\n",
              "      <th>minimum_nights</th>\n",
              "      <th>number_of_reviews</th>\n",
              "      <th>last_review</th>\n",
              "      <th>reviews_per_month</th>\n",
              "      <th>calculated_host_listings_count</th>\n",
              "      <th>availability_365</th>\n",
              "    </tr>\n",
              "  </thead>\n",
              "  <tbody>\n",
              "    <tr>\n",
              "      <th>0</th>\n",
              "      <td>2539</td>\n",
              "      <td>Clean &amp; quiet apt home by the park</td>\n",
              "      <td>2787</td>\n",
              "      <td>John</td>\n",
              "      <td>Brooklyn</td>\n",
              "      <td>Kensington</td>\n",
              "      <td>40.64749</td>\n",
              "      <td>-73.97237</td>\n",
              "      <td>Private room</td>\n",
              "      <td>149</td>\n",
              "      <td>1</td>\n",
              "      <td>9</td>\n",
              "      <td>2018-10-19</td>\n",
              "      <td>0.21</td>\n",
              "      <td>6</td>\n",
              "      <td>365</td>\n",
              "    </tr>\n",
              "    <tr>\n",
              "      <th>1</th>\n",
              "      <td>2595</td>\n",
              "      <td>Skylit Midtown Castle</td>\n",
              "      <td>2845</td>\n",
              "      <td>Jennifer</td>\n",
              "      <td>Manhattan</td>\n",
              "      <td>Midtown</td>\n",
              "      <td>40.75362</td>\n",
              "      <td>-73.98377</td>\n",
              "      <td>Entire home/apt</td>\n",
              "      <td>225</td>\n",
              "      <td>1</td>\n",
              "      <td>45</td>\n",
              "      <td>2019-05-21</td>\n",
              "      <td>0.38</td>\n",
              "      <td>2</td>\n",
              "      <td>355</td>\n",
              "    </tr>\n",
              "    <tr>\n",
              "      <th>2</th>\n",
              "      <td>3647</td>\n",
              "      <td>THE VILLAGE OF HARLEM....NEW YORK !</td>\n",
              "      <td>4632</td>\n",
              "      <td>Elisabeth</td>\n",
              "      <td>Manhattan</td>\n",
              "      <td>Harlem</td>\n",
              "      <td>40.80902</td>\n",
              "      <td>-73.94190</td>\n",
              "      <td>Private room</td>\n",
              "      <td>150</td>\n",
              "      <td>3</td>\n",
              "      <td>0</td>\n",
              "      <td>NaN</td>\n",
              "      <td>NaN</td>\n",
              "      <td>1</td>\n",
              "      <td>365</td>\n",
              "    </tr>\n",
              "    <tr>\n",
              "      <th>3</th>\n",
              "      <td>3831</td>\n",
              "      <td>Cozy Entire Floor of Brownstone</td>\n",
              "      <td>4869</td>\n",
              "      <td>LisaRoxanne</td>\n",
              "      <td>Brooklyn</td>\n",
              "      <td>Clinton Hill</td>\n",
              "      <td>40.68514</td>\n",
              "      <td>-73.95976</td>\n",
              "      <td>Entire home/apt</td>\n",
              "      <td>89</td>\n",
              "      <td>1</td>\n",
              "      <td>270</td>\n",
              "      <td>2019-07-05</td>\n",
              "      <td>4.64</td>\n",
              "      <td>1</td>\n",
              "      <td>194</td>\n",
              "    </tr>\n",
              "    <tr>\n",
              "      <th>4</th>\n",
              "      <td>5022</td>\n",
              "      <td>Entire Apt: Spacious Studio/Loft by central park</td>\n",
              "      <td>7192</td>\n",
              "      <td>Laura</td>\n",
              "      <td>Manhattan</td>\n",
              "      <td>East Harlem</td>\n",
              "      <td>40.79851</td>\n",
              "      <td>-73.94399</td>\n",
              "      <td>Entire home/apt</td>\n",
              "      <td>80</td>\n",
              "      <td>10</td>\n",
              "      <td>9</td>\n",
              "      <td>2018-11-19</td>\n",
              "      <td>0.10</td>\n",
              "      <td>1</td>\n",
              "      <td>0</td>\n",
              "    </tr>\n",
              "  </tbody>\n",
              "</table>\n",
              "</div>"
            ],
            "text/plain": [
              "     id  ... availability_365\n",
              "0  2539  ...              365\n",
              "1  2595  ...              355\n",
              "2  3647  ...              365\n",
              "3  3831  ...              194\n",
              "4  5022  ...                0\n",
              "\n",
              "[5 rows x 16 columns]"
            ]
          },
          "metadata": {},
          "execution_count": 31
        }
      ]
    },
    {
      "cell_type": "code",
      "metadata": {
        "id": "c9mDVKiD4nuH",
        "colab": {
          "base_uri": "https://localhost:8080/",
          "height": 462
        },
        "outputId": "2ab68e66-1708-4d69-db20-afdf4f2a6f13"
      },
      "source": [
        "#tail of airbnb_df\n",
        "airbnb_df.tail()"
      ],
      "execution_count": 32,
      "outputs": [
        {
          "output_type": "execute_result",
          "data": {
            "text/html": [
              "<div>\n",
              "<style scoped>\n",
              "    .dataframe tbody tr th:only-of-type {\n",
              "        vertical-align: middle;\n",
              "    }\n",
              "\n",
              "    .dataframe tbody tr th {\n",
              "        vertical-align: top;\n",
              "    }\n",
              "\n",
              "    .dataframe thead th {\n",
              "        text-align: right;\n",
              "    }\n",
              "</style>\n",
              "<table border=\"1\" class=\"dataframe\">\n",
              "  <thead>\n",
              "    <tr style=\"text-align: right;\">\n",
              "      <th></th>\n",
              "      <th>id</th>\n",
              "      <th>name</th>\n",
              "      <th>host_id</th>\n",
              "      <th>host_name</th>\n",
              "      <th>neighbourhood_group</th>\n",
              "      <th>neighbourhood</th>\n",
              "      <th>latitude</th>\n",
              "      <th>longitude</th>\n",
              "      <th>room_type</th>\n",
              "      <th>price</th>\n",
              "      <th>minimum_nights</th>\n",
              "      <th>number_of_reviews</th>\n",
              "      <th>last_review</th>\n",
              "      <th>reviews_per_month</th>\n",
              "      <th>calculated_host_listings_count</th>\n",
              "      <th>availability_365</th>\n",
              "    </tr>\n",
              "  </thead>\n",
              "  <tbody>\n",
              "    <tr>\n",
              "      <th>48890</th>\n",
              "      <td>36484665</td>\n",
              "      <td>Charming one bedroom - newly renovated rowhouse</td>\n",
              "      <td>8232441</td>\n",
              "      <td>Sabrina</td>\n",
              "      <td>Brooklyn</td>\n",
              "      <td>Bedford-Stuyvesant</td>\n",
              "      <td>40.67853</td>\n",
              "      <td>-73.94995</td>\n",
              "      <td>Private room</td>\n",
              "      <td>70</td>\n",
              "      <td>2</td>\n",
              "      <td>0</td>\n",
              "      <td>NaN</td>\n",
              "      <td>NaN</td>\n",
              "      <td>2</td>\n",
              "      <td>9</td>\n",
              "    </tr>\n",
              "    <tr>\n",
              "      <th>48891</th>\n",
              "      <td>36485057</td>\n",
              "      <td>Affordable room in Bushwick/East Williamsburg</td>\n",
              "      <td>6570630</td>\n",
              "      <td>Marisol</td>\n",
              "      <td>Brooklyn</td>\n",
              "      <td>Bushwick</td>\n",
              "      <td>40.70184</td>\n",
              "      <td>-73.93317</td>\n",
              "      <td>Private room</td>\n",
              "      <td>40</td>\n",
              "      <td>4</td>\n",
              "      <td>0</td>\n",
              "      <td>NaN</td>\n",
              "      <td>NaN</td>\n",
              "      <td>2</td>\n",
              "      <td>36</td>\n",
              "    </tr>\n",
              "    <tr>\n",
              "      <th>48892</th>\n",
              "      <td>36485431</td>\n",
              "      <td>Sunny Studio at Historical Neighborhood</td>\n",
              "      <td>23492952</td>\n",
              "      <td>Ilgar &amp; Aysel</td>\n",
              "      <td>Manhattan</td>\n",
              "      <td>Harlem</td>\n",
              "      <td>40.81475</td>\n",
              "      <td>-73.94867</td>\n",
              "      <td>Entire home/apt</td>\n",
              "      <td>115</td>\n",
              "      <td>10</td>\n",
              "      <td>0</td>\n",
              "      <td>NaN</td>\n",
              "      <td>NaN</td>\n",
              "      <td>1</td>\n",
              "      <td>27</td>\n",
              "    </tr>\n",
              "    <tr>\n",
              "      <th>48893</th>\n",
              "      <td>36485609</td>\n",
              "      <td>43rd St. Time Square-cozy single bed</td>\n",
              "      <td>30985759</td>\n",
              "      <td>Taz</td>\n",
              "      <td>Manhattan</td>\n",
              "      <td>Hell's Kitchen</td>\n",
              "      <td>40.75751</td>\n",
              "      <td>-73.99112</td>\n",
              "      <td>Shared room</td>\n",
              "      <td>55</td>\n",
              "      <td>1</td>\n",
              "      <td>0</td>\n",
              "      <td>NaN</td>\n",
              "      <td>NaN</td>\n",
              "      <td>6</td>\n",
              "      <td>2</td>\n",
              "    </tr>\n",
              "    <tr>\n",
              "      <th>48894</th>\n",
              "      <td>36487245</td>\n",
              "      <td>Trendy duplex in the very heart of Hell's Kitchen</td>\n",
              "      <td>68119814</td>\n",
              "      <td>Christophe</td>\n",
              "      <td>Manhattan</td>\n",
              "      <td>Hell's Kitchen</td>\n",
              "      <td>40.76404</td>\n",
              "      <td>-73.98933</td>\n",
              "      <td>Private room</td>\n",
              "      <td>90</td>\n",
              "      <td>7</td>\n",
              "      <td>0</td>\n",
              "      <td>NaN</td>\n",
              "      <td>NaN</td>\n",
              "      <td>1</td>\n",
              "      <td>23</td>\n",
              "    </tr>\n",
              "  </tbody>\n",
              "</table>\n",
              "</div>"
            ],
            "text/plain": [
              "             id  ... availability_365\n",
              "48890  36484665  ...                9\n",
              "48891  36485057  ...               36\n",
              "48892  36485431  ...               27\n",
              "48893  36485609  ...                2\n",
              "48894  36487245  ...               23\n",
              "\n",
              "[5 rows x 16 columns]"
            ]
          },
          "metadata": {},
          "execution_count": 32
        }
      ]
    },
    {
      "cell_type": "code",
      "metadata": {
        "id": "xPY6VRtx5d4e",
        "colab": {
          "base_uri": "https://localhost:8080/"
        },
        "outputId": "b93a12a1-7e77-4f87-f67d-61bd6d79c35a"
      },
      "source": [
        "#checking the size of the airbnb_df\n",
        "airbnb_df.size"
      ],
      "execution_count": 33,
      "outputs": [
        {
          "output_type": "execute_result",
          "data": {
            "text/plain": [
              "782320"
            ]
          },
          "metadata": {},
          "execution_count": 33
        }
      ]
    },
    {
      "cell_type": "code",
      "metadata": {
        "id": "1PVTRb-I5d7r",
        "colab": {
          "base_uri": "https://localhost:8080/"
        },
        "outputId": "19a31dee-3d31-42e7-fbc5-c722f8fd6093"
      },
      "source": [
        "#checking shape of airbnb_df\n",
        "airbnb_df.shape"
      ],
      "execution_count": 34,
      "outputs": [
        {
          "output_type": "execute_result",
          "data": {
            "text/plain": [
              "(48895, 16)"
            ]
          },
          "metadata": {},
          "execution_count": 34
        }
      ]
    },
    {
      "cell_type": "markdown",
      "metadata": {
        "id": "nVL5PeyM5nEx"
      },
      "source": [
        "\n",
        "cleaning the data▶"
      ]
    },
    {
      "cell_type": "code",
      "metadata": {
        "id": "N-oLTbTZ4nxH",
        "colab": {
          "base_uri": "https://localhost:8080/"
        },
        "outputId": "16de1eb8-5ed1-41ac-e1f9-94e966a94421"
      },
      "source": [
        "#checking null values or unknown data \n",
        "airbnb_df.isnull().sum()"
      ],
      "execution_count": 35,
      "outputs": [
        {
          "output_type": "execute_result",
          "data": {
            "text/plain": [
              "id                                    0\n",
              "name                                 16\n",
              "host_id                               0\n",
              "host_name                            21\n",
              "neighbourhood_group                   0\n",
              "neighbourhood                         0\n",
              "latitude                              0\n",
              "longitude                             0\n",
              "room_type                             0\n",
              "price                                 0\n",
              "minimum_nights                        0\n",
              "number_of_reviews                     0\n",
              "last_review                       10052\n",
              "reviews_per_month                 10052\n",
              "calculated_host_listings_count        0\n",
              "availability_365                      0\n",
              "dtype: int64"
            ]
          },
          "metadata": {},
          "execution_count": 35
        }
      ]
    },
    {
      "cell_type": "code",
      "metadata": {
        "id": "W0P_dSwC5yH-",
        "colab": {
          "base_uri": "https://localhost:8080/",
          "height": 419
        },
        "outputId": "64a64e0b-be5a-4404-f3a4-f83d67deacce"
      },
      "source": [
        "#getting thoes colunms which is required for analysis of hosts \n",
        "airbnb_df_new=airbnb_df.loc[:,['host_id','host_name','price','number_of_reviews','reviews_per_month','availability_365']]\n",
        "airbnb_df_new   "
      ],
      "execution_count": 36,
      "outputs": [
        {
          "output_type": "execute_result",
          "data": {
            "text/html": [
              "<div>\n",
              "<style scoped>\n",
              "    .dataframe tbody tr th:only-of-type {\n",
              "        vertical-align: middle;\n",
              "    }\n",
              "\n",
              "    .dataframe tbody tr th {\n",
              "        vertical-align: top;\n",
              "    }\n",
              "\n",
              "    .dataframe thead th {\n",
              "        text-align: right;\n",
              "    }\n",
              "</style>\n",
              "<table border=\"1\" class=\"dataframe\">\n",
              "  <thead>\n",
              "    <tr style=\"text-align: right;\">\n",
              "      <th></th>\n",
              "      <th>host_id</th>\n",
              "      <th>host_name</th>\n",
              "      <th>price</th>\n",
              "      <th>number_of_reviews</th>\n",
              "      <th>reviews_per_month</th>\n",
              "      <th>availability_365</th>\n",
              "    </tr>\n",
              "  </thead>\n",
              "  <tbody>\n",
              "    <tr>\n",
              "      <th>0</th>\n",
              "      <td>2787</td>\n",
              "      <td>John</td>\n",
              "      <td>149</td>\n",
              "      <td>9</td>\n",
              "      <td>0.21</td>\n",
              "      <td>365</td>\n",
              "    </tr>\n",
              "    <tr>\n",
              "      <th>1</th>\n",
              "      <td>2845</td>\n",
              "      <td>Jennifer</td>\n",
              "      <td>225</td>\n",
              "      <td>45</td>\n",
              "      <td>0.38</td>\n",
              "      <td>355</td>\n",
              "    </tr>\n",
              "    <tr>\n",
              "      <th>2</th>\n",
              "      <td>4632</td>\n",
              "      <td>Elisabeth</td>\n",
              "      <td>150</td>\n",
              "      <td>0</td>\n",
              "      <td>NaN</td>\n",
              "      <td>365</td>\n",
              "    </tr>\n",
              "    <tr>\n",
              "      <th>3</th>\n",
              "      <td>4869</td>\n",
              "      <td>LisaRoxanne</td>\n",
              "      <td>89</td>\n",
              "      <td>270</td>\n",
              "      <td>4.64</td>\n",
              "      <td>194</td>\n",
              "    </tr>\n",
              "    <tr>\n",
              "      <th>4</th>\n",
              "      <td>7192</td>\n",
              "      <td>Laura</td>\n",
              "      <td>80</td>\n",
              "      <td>9</td>\n",
              "      <td>0.10</td>\n",
              "      <td>0</td>\n",
              "    </tr>\n",
              "    <tr>\n",
              "      <th>...</th>\n",
              "      <td>...</td>\n",
              "      <td>...</td>\n",
              "      <td>...</td>\n",
              "      <td>...</td>\n",
              "      <td>...</td>\n",
              "      <td>...</td>\n",
              "    </tr>\n",
              "    <tr>\n",
              "      <th>48890</th>\n",
              "      <td>8232441</td>\n",
              "      <td>Sabrina</td>\n",
              "      <td>70</td>\n",
              "      <td>0</td>\n",
              "      <td>NaN</td>\n",
              "      <td>9</td>\n",
              "    </tr>\n",
              "    <tr>\n",
              "      <th>48891</th>\n",
              "      <td>6570630</td>\n",
              "      <td>Marisol</td>\n",
              "      <td>40</td>\n",
              "      <td>0</td>\n",
              "      <td>NaN</td>\n",
              "      <td>36</td>\n",
              "    </tr>\n",
              "    <tr>\n",
              "      <th>48892</th>\n",
              "      <td>23492952</td>\n",
              "      <td>Ilgar &amp; Aysel</td>\n",
              "      <td>115</td>\n",
              "      <td>0</td>\n",
              "      <td>NaN</td>\n",
              "      <td>27</td>\n",
              "    </tr>\n",
              "    <tr>\n",
              "      <th>48893</th>\n",
              "      <td>30985759</td>\n",
              "      <td>Taz</td>\n",
              "      <td>55</td>\n",
              "      <td>0</td>\n",
              "      <td>NaN</td>\n",
              "      <td>2</td>\n",
              "    </tr>\n",
              "    <tr>\n",
              "      <th>48894</th>\n",
              "      <td>68119814</td>\n",
              "      <td>Christophe</td>\n",
              "      <td>90</td>\n",
              "      <td>0</td>\n",
              "      <td>NaN</td>\n",
              "      <td>23</td>\n",
              "    </tr>\n",
              "  </tbody>\n",
              "</table>\n",
              "<p>48895 rows × 6 columns</p>\n",
              "</div>"
            ],
            "text/plain": [
              "        host_id      host_name  ...  reviews_per_month  availability_365\n",
              "0          2787           John  ...               0.21               365\n",
              "1          2845       Jennifer  ...               0.38               355\n",
              "2          4632      Elisabeth  ...                NaN               365\n",
              "3          4869    LisaRoxanne  ...               4.64               194\n",
              "4          7192          Laura  ...               0.10                 0\n",
              "...         ...            ...  ...                ...               ...\n",
              "48890   8232441        Sabrina  ...                NaN                 9\n",
              "48891   6570630        Marisol  ...                NaN                36\n",
              "48892  23492952  Ilgar & Aysel  ...                NaN                27\n",
              "48893  30985759            Taz  ...                NaN                 2\n",
              "48894  68119814     Christophe  ...                NaN                23\n",
              "\n",
              "[48895 rows x 6 columns]"
            ]
          },
          "metadata": {},
          "execution_count": 36
        }
      ]
    },
    {
      "cell_type": "code",
      "metadata": {
        "id": "qLrHhOvl5yKu"
      },
      "source": [
        "#handeling missing values \n",
        "airbnb_df_new.fillna({'reviews_per_month':0}, inplace=True)\n",
        "airbnb_df_new.dropna(subset=['host_name'],inplace=True)"
      ],
      "execution_count": 37,
      "outputs": []
    },
    {
      "cell_type": "code",
      "metadata": {
        "id": "jSkOu1zx5yNN",
        "colab": {
          "base_uri": "https://localhost:8080/"
        },
        "outputId": "2ffa1f5e-71d0-4911-f733-3296f242ba00"
      },
      "source": [
        "#lenght of new airbnb_df\n",
        "len(airbnb_df_new)"
      ],
      "execution_count": 38,
      "outputs": [
        {
          "output_type": "execute_result",
          "data": {
            "text/plain": [
              "48874"
            ]
          },
          "metadata": {},
          "execution_count": 38
        }
      ]
    },
    {
      "cell_type": "code",
      "metadata": {
        "id": "MkoHuTSR5yXs",
        "colab": {
          "base_uri": "https://localhost:8080/"
        },
        "outputId": "b906ad55-e8a9-4031-d104-56854df70ff4"
      },
      "source": [
        "#checking null values or missing data \n",
        "airbnb_df_new.isnull().sum()"
      ],
      "execution_count": 39,
      "outputs": [
        {
          "output_type": "execute_result",
          "data": {
            "text/plain": [
              "host_id              0\n",
              "host_name            0\n",
              "price                0\n",
              "number_of_reviews    0\n",
              "reviews_per_month    0\n",
              "availability_365     0\n",
              "dtype: int64"
            ]
          },
          "metadata": {},
          "execution_count": 39
        }
      ]
    },
    {
      "cell_type": "code",
      "metadata": {
        "id": "ENyfXAm25yaq",
        "colab": {
          "base_uri": "https://localhost:8080/"
        },
        "outputId": "a5ba6934-bf25-4cbe-f5c0-3fc5ced2fefb"
      },
      "source": [
        "#we have clean data now\n",
        "print(type(airbnb_df_new[\"host_id\"]))\n",
        "print(type(airbnb_df_new['host_name']))\n",
        "print(type(airbnb_df_new[\"availability_365\"]))\n",
        "print(type(airbnb_df_new[\"number_of_reviews\"]))\n",
        "print(type(airbnb_df_new[\"reviews_per_month\"]))\n",
        "print(type(airbnb_df_new[\"price\"]))"
      ],
      "execution_count": 40,
      "outputs": [
        {
          "output_type": "stream",
          "name": "stdout",
          "text": [
            "<class 'pandas.core.series.Series'>\n",
            "<class 'pandas.core.series.Series'>\n",
            "<class 'pandas.core.series.Series'>\n",
            "<class 'pandas.core.series.Series'>\n",
            "<class 'pandas.core.series.Series'>\n",
            "<class 'pandas.core.series.Series'>\n"
          ]
        }
      ]
    },
    {
      "cell_type": "code",
      "metadata": {
        "id": "br0hU0uc5_cE",
        "colab": {
          "base_uri": "https://localhost:8080/",
          "height": 204
        },
        "outputId": "3eba67a5-5c36-4e70-9e45-9873ec692694"
      },
      "source": [
        "#head of airbnb_df_new\n",
        "airbnb_df_new.head()"
      ],
      "execution_count": 41,
      "outputs": [
        {
          "output_type": "execute_result",
          "data": {
            "text/html": [
              "<div>\n",
              "<style scoped>\n",
              "    .dataframe tbody tr th:only-of-type {\n",
              "        vertical-align: middle;\n",
              "    }\n",
              "\n",
              "    .dataframe tbody tr th {\n",
              "        vertical-align: top;\n",
              "    }\n",
              "\n",
              "    .dataframe thead th {\n",
              "        text-align: right;\n",
              "    }\n",
              "</style>\n",
              "<table border=\"1\" class=\"dataframe\">\n",
              "  <thead>\n",
              "    <tr style=\"text-align: right;\">\n",
              "      <th></th>\n",
              "      <th>host_id</th>\n",
              "      <th>host_name</th>\n",
              "      <th>price</th>\n",
              "      <th>number_of_reviews</th>\n",
              "      <th>reviews_per_month</th>\n",
              "      <th>availability_365</th>\n",
              "    </tr>\n",
              "  </thead>\n",
              "  <tbody>\n",
              "    <tr>\n",
              "      <th>0</th>\n",
              "      <td>2787</td>\n",
              "      <td>John</td>\n",
              "      <td>149</td>\n",
              "      <td>9</td>\n",
              "      <td>0.21</td>\n",
              "      <td>365</td>\n",
              "    </tr>\n",
              "    <tr>\n",
              "      <th>1</th>\n",
              "      <td>2845</td>\n",
              "      <td>Jennifer</td>\n",
              "      <td>225</td>\n",
              "      <td>45</td>\n",
              "      <td>0.38</td>\n",
              "      <td>355</td>\n",
              "    </tr>\n",
              "    <tr>\n",
              "      <th>2</th>\n",
              "      <td>4632</td>\n",
              "      <td>Elisabeth</td>\n",
              "      <td>150</td>\n",
              "      <td>0</td>\n",
              "      <td>0.00</td>\n",
              "      <td>365</td>\n",
              "    </tr>\n",
              "    <tr>\n",
              "      <th>3</th>\n",
              "      <td>4869</td>\n",
              "      <td>LisaRoxanne</td>\n",
              "      <td>89</td>\n",
              "      <td>270</td>\n",
              "      <td>4.64</td>\n",
              "      <td>194</td>\n",
              "    </tr>\n",
              "    <tr>\n",
              "      <th>4</th>\n",
              "      <td>7192</td>\n",
              "      <td>Laura</td>\n",
              "      <td>80</td>\n",
              "      <td>9</td>\n",
              "      <td>0.10</td>\n",
              "      <td>0</td>\n",
              "    </tr>\n",
              "  </tbody>\n",
              "</table>\n",
              "</div>"
            ],
            "text/plain": [
              "   host_id    host_name  ...  reviews_per_month  availability_365\n",
              "0     2787         John  ...               0.21               365\n",
              "1     2845     Jennifer  ...               0.38               355\n",
              "2     4632    Elisabeth  ...               0.00               365\n",
              "3     4869  LisaRoxanne  ...               4.64               194\n",
              "4     7192        Laura  ...               0.10                 0\n",
              "\n",
              "[5 rows x 6 columns]"
            ]
          },
          "metadata": {},
          "execution_count": 41
        }
      ]
    },
    {
      "cell_type": "code",
      "metadata": {
        "id": "slV9qIqE5_kr",
        "colab": {
          "base_uri": "https://localhost:8080/",
          "height": 204
        },
        "outputId": "d3c3170d-66d2-4ec0-8497-d4baab1a052e"
      },
      "source": [
        "#tail of airbnb_df_new\n",
        "airbnb_df_new.tail()"
      ],
      "execution_count": 42,
      "outputs": [
        {
          "output_type": "execute_result",
          "data": {
            "text/html": [
              "<div>\n",
              "<style scoped>\n",
              "    .dataframe tbody tr th:only-of-type {\n",
              "        vertical-align: middle;\n",
              "    }\n",
              "\n",
              "    .dataframe tbody tr th {\n",
              "        vertical-align: top;\n",
              "    }\n",
              "\n",
              "    .dataframe thead th {\n",
              "        text-align: right;\n",
              "    }\n",
              "</style>\n",
              "<table border=\"1\" class=\"dataframe\">\n",
              "  <thead>\n",
              "    <tr style=\"text-align: right;\">\n",
              "      <th></th>\n",
              "      <th>host_id</th>\n",
              "      <th>host_name</th>\n",
              "      <th>price</th>\n",
              "      <th>number_of_reviews</th>\n",
              "      <th>reviews_per_month</th>\n",
              "      <th>availability_365</th>\n",
              "    </tr>\n",
              "  </thead>\n",
              "  <tbody>\n",
              "    <tr>\n",
              "      <th>48890</th>\n",
              "      <td>8232441</td>\n",
              "      <td>Sabrina</td>\n",
              "      <td>70</td>\n",
              "      <td>0</td>\n",
              "      <td>0.0</td>\n",
              "      <td>9</td>\n",
              "    </tr>\n",
              "    <tr>\n",
              "      <th>48891</th>\n",
              "      <td>6570630</td>\n",
              "      <td>Marisol</td>\n",
              "      <td>40</td>\n",
              "      <td>0</td>\n",
              "      <td>0.0</td>\n",
              "      <td>36</td>\n",
              "    </tr>\n",
              "    <tr>\n",
              "      <th>48892</th>\n",
              "      <td>23492952</td>\n",
              "      <td>Ilgar &amp; Aysel</td>\n",
              "      <td>115</td>\n",
              "      <td>0</td>\n",
              "      <td>0.0</td>\n",
              "      <td>27</td>\n",
              "    </tr>\n",
              "    <tr>\n",
              "      <th>48893</th>\n",
              "      <td>30985759</td>\n",
              "      <td>Taz</td>\n",
              "      <td>55</td>\n",
              "      <td>0</td>\n",
              "      <td>0.0</td>\n",
              "      <td>2</td>\n",
              "    </tr>\n",
              "    <tr>\n",
              "      <th>48894</th>\n",
              "      <td>68119814</td>\n",
              "      <td>Christophe</td>\n",
              "      <td>90</td>\n",
              "      <td>0</td>\n",
              "      <td>0.0</td>\n",
              "      <td>23</td>\n",
              "    </tr>\n",
              "  </tbody>\n",
              "</table>\n",
              "</div>"
            ],
            "text/plain": [
              "        host_id      host_name  ...  reviews_per_month  availability_365\n",
              "48890   8232441        Sabrina  ...                0.0                 9\n",
              "48891   6570630        Marisol  ...                0.0                36\n",
              "48892  23492952  Ilgar & Aysel  ...                0.0                27\n",
              "48893  30985759            Taz  ...                0.0                 2\n",
              "48894  68119814     Christophe  ...                0.0                23\n",
              "\n",
              "[5 rows x 6 columns]"
            ]
          },
          "metadata": {},
          "execution_count": 42
        }
      ]
    },
    {
      "cell_type": "markdown",
      "metadata": {
        "id": "4gB44wTh6J_J"
      },
      "source": [
        "# Now, we have to Explore and analyze the data to discover key understandings such as : \n",
        " * What can we learn about different hosts and areas?\n",
        "Let us first start with Hosts,\n",
        "Well we can learn following points about hosts\n",
        "\n",
        "# 1] There are how many hosts which has availability of 365 days i.e 24x7 \n",
        "# 2] which host has the highest\tnumber of reviews\n",
        "# 3] which host has the highest number of reviews per month \n",
        "# 4] which host has most expensive room per night\n",
        "# 5] which host has cheapest room per night"
      ]
    },
    {
      "cell_type": "markdown",
      "metadata": {
        "id": "b1HKYXBI-_MW"
      },
      "source": [
        "1] There are how many hosts which has availability of 365 days i.e 24x7"
      ]
    },
    {
      "cell_type": "code",
      "metadata": {
        "id": "uuoC6mMj_Ar3",
        "colab": {
          "base_uri": "https://localhost:8080/"
        },
        "outputId": "e14acb7d-2ee1-47dd-d8e4-086229582264"
      },
      "source": [
        "#lets see max days availability host has \n",
        "airbnb_df_new[\"availability_365\"].max()"
      ],
      "execution_count": 43,
      "outputs": [
        {
          "output_type": "execute_result",
          "data": {
            "text/plain": [
              "365"
            ]
          },
          "metadata": {},
          "execution_count": 43
        }
      ]
    },
    {
      "cell_type": "code",
      "metadata": {
        "id": "N_IJc6Sq_AxG",
        "colab": {
          "base_uri": "https://localhost:8080/"
        },
        "outputId": "58b22eee-4dfb-41e1-ac84-9bb3d273e222"
      },
      "source": [
        "#how many hosts has availability of 365 days\n",
        "availability_365_days=airbnb_df_new.loc[:,['host_id','availability_365']]\n",
        "host_available_365_days=availability_365_days[availability_365_days['availability_365']>364]\n",
        "how_many_host_available_for_365_days=host_available_365_days['host_id'].nunique()\n",
        "print(how_many_host_available_for_365_days)"
      ],
      "execution_count": 44,
      "outputs": [
        {
          "output_type": "stream",
          "name": "stdout",
          "text": [
            "894\n"
          ]
        }
      ]
    },
    {
      "cell_type": "markdown",
      "metadata": {
        "id": "IBeUeEKC_MfV"
      },
      "source": [
        "so there are total 894 hosts which has availability of 365 days"
      ]
    },
    {
      "cell_type": "markdown",
      "metadata": {
        "id": "0keIjc_CXvqK"
      },
      "source": [
        "2] which host has the highest number of reviews"
      ]
    },
    {
      "cell_type": "code",
      "metadata": {
        "colab": {
          "base_uri": "https://localhost:8080/",
          "height": 359
        },
        "id": "zVp1-02mXxVT",
        "outputId": "ef29b468-7ee3-47d6-c1b0-d2e6f99f5b83"
      },
      "source": [
        "#groupby host_id and host_name for getting highest number of reviews \n",
        "groupby_host_id_and_host_name=airbnb_df_new.groupby(['host_id','host_name']).sum()[['number_of_reviews']].reset_index()\n",
        "highest_number_of_reviews=groupby_host_id_and_host_name.sort_values('number_of_reviews',ascending=False).head(10)\n",
        "highest_number_of_reviews"
      ],
      "execution_count": 45,
      "outputs": [
        {
          "output_type": "execute_result",
          "data": {
            "text/html": [
              "<div>\n",
              "<style scoped>\n",
              "    .dataframe tbody tr th:only-of-type {\n",
              "        vertical-align: middle;\n",
              "    }\n",
              "\n",
              "    .dataframe tbody tr th {\n",
              "        vertical-align: top;\n",
              "    }\n",
              "\n",
              "    .dataframe thead th {\n",
              "        text-align: right;\n",
              "    }\n",
              "</style>\n",
              "<table border=\"1\" class=\"dataframe\">\n",
              "  <thead>\n",
              "    <tr style=\"text-align: right;\">\n",
              "      <th></th>\n",
              "      <th>host_id</th>\n",
              "      <th>host_name</th>\n",
              "      <th>number_of_reviews</th>\n",
              "    </tr>\n",
              "  </thead>\n",
              "  <tbody>\n",
              "    <tr>\n",
              "      <th>21304</th>\n",
              "      <td>37312959</td>\n",
              "      <td>Maya</td>\n",
              "      <td>2273</td>\n",
              "    </tr>\n",
              "    <tr>\n",
              "      <th>1052</th>\n",
              "      <td>344035</td>\n",
              "      <td>Brooklyn&amp;   Breakfast    -Len-</td>\n",
              "      <td>2205</td>\n",
              "    </tr>\n",
              "    <tr>\n",
              "      <th>18626</th>\n",
              "      <td>26432133</td>\n",
              "      <td>Danielle</td>\n",
              "      <td>2017</td>\n",
              "    </tr>\n",
              "    <tr>\n",
              "      <th>20872</th>\n",
              "      <td>35524316</td>\n",
              "      <td>Yasu &amp; Akiko</td>\n",
              "      <td>1971</td>\n",
              "    </tr>\n",
              "    <tr>\n",
              "      <th>21921</th>\n",
              "      <td>40176101</td>\n",
              "      <td>Brady</td>\n",
              "      <td>1818</td>\n",
              "    </tr>\n",
              "    <tr>\n",
              "      <th>7362</th>\n",
              "      <td>4734398</td>\n",
              "      <td>Jj</td>\n",
              "      <td>1798</td>\n",
              "    </tr>\n",
              "    <tr>\n",
              "      <th>14707</th>\n",
              "      <td>16677326</td>\n",
              "      <td>Alex And Zeena</td>\n",
              "      <td>1355</td>\n",
              "    </tr>\n",
              "    <tr>\n",
              "      <th>9201</th>\n",
              "      <td>6885157</td>\n",
              "      <td>Randy</td>\n",
              "      <td>1346</td>\n",
              "    </tr>\n",
              "    <tr>\n",
              "      <th>34629</th>\n",
              "      <td>219517861</td>\n",
              "      <td>Sonder (NYC)</td>\n",
              "      <td>1281</td>\n",
              "    </tr>\n",
              "    <tr>\n",
              "      <th>17517</th>\n",
              "      <td>23591164</td>\n",
              "      <td>Angela</td>\n",
              "      <td>1269</td>\n",
              "    </tr>\n",
              "  </tbody>\n",
              "</table>\n",
              "</div>"
            ],
            "text/plain": [
              "         host_id                       host_name  number_of_reviews\n",
              "21304   37312959                            Maya               2273\n",
              "1052      344035  Brooklyn&   Breakfast    -Len-               2205\n",
              "18626   26432133                        Danielle               2017\n",
              "20872   35524316                    Yasu & Akiko               1971\n",
              "21921   40176101                           Brady               1818\n",
              "7362     4734398                              Jj               1798\n",
              "14707   16677326                  Alex And Zeena               1355\n",
              "9201     6885157                           Randy               1346\n",
              "34629  219517861                    Sonder (NYC)               1281\n",
              "17517   23591164                          Angela               1269"
            ]
          },
          "metadata": {},
          "execution_count": 45
        }
      ]
    },
    {
      "cell_type": "code",
      "metadata": {
        "colab": {
          "base_uri": "https://localhost:8080/",
          "height": 596
        },
        "id": "Fi8dqmPwXyHW",
        "outputId": "fcc70d1a-0ce9-4005-f108-a98486914ceb"
      },
      "source": [
        "#visualizing highest number of reviews\n",
        "plt.rcParams['figure.figsize']=(15,7)\n",
        "highest_number_of_reviews.plot(kind='bar',x='host_name',y='number_of_reviews')"
      ],
      "execution_count": 46,
      "outputs": [
        {
          "output_type": "execute_result",
          "data": {
            "text/plain": [
              "<matplotlib.axes._subplots.AxesSubplot at 0x7f8f96cafa10>"
            ]
          },
          "metadata": {},
          "execution_count": 46
        },
        {
          "output_type": "display_data",
          "data": {
            "image/png": "[encoded data removed]",
            "text/plain": [
              "<Figure size 1080x504 with 1 Axes>"
            ]
          },
          "metadata": {
            "needs_background": "light"
          }
        }
      ]
    },
    {
      "cell_type": "markdown",
      "metadata": {
        "id": "bWV2rK8zX7vz"
      },
      "source": [
        "maya has the highest number of reviews"
      ]
    },
    {
      "cell_type": "markdown",
      "metadata": {
        "id": "b1njRTA_yLc2"
      },
      "source": [
        "3] which host has the highest number of reviews per month"
      ]
    },
    {
      "cell_type": "code",
      "metadata": {
        "id": "w5obrd4FXyg6",
        "colab": {
          "base_uri": "https://localhost:8080/",
          "height": 359
        },
        "outputId": "ba0f26f5-5db6-49cd-cd56-b229fbaed083"
      },
      "source": [
        "#groupby host_id and host_name for getting highest number of reviews per month\n",
        "groupby_host_id_and_host_name=airbnb_df_new.groupby(['host_id','host_name']).sum()[['reviews_per_month']].reset_index()\n",
        "highest_number_of_reviews_per_month=groupby_host_id_and_host_name.sort_values('reviews_per_month',ascending=False).head(10)\n",
        "highest_number_of_reviews_per_month"
      ],
      "execution_count": 47,
      "outputs": [
        {
          "output_type": "execute_result",
          "data": {
            "text/html": [
              "<div>\n",
              "<style scoped>\n",
              "    .dataframe tbody tr th:only-of-type {\n",
              "        vertical-align: middle;\n",
              "    }\n",
              "\n",
              "    .dataframe tbody tr th {\n",
              "        vertical-align: top;\n",
              "    }\n",
              "\n",
              "    .dataframe thead th {\n",
              "        text-align: right;\n",
              "    }\n",
              "</style>\n",
              "<table border=\"1\" class=\"dataframe\">\n",
              "  <thead>\n",
              "    <tr style=\"text-align: right;\">\n",
              "      <th></th>\n",
              "      <th>host_id</th>\n",
              "      <th>host_name</th>\n",
              "      <th>reviews_per_month</th>\n",
              "    </tr>\n",
              "  </thead>\n",
              "  <tbody>\n",
              "    <tr>\n",
              "      <th>34629</th>\n",
              "      <td>219517861</td>\n",
              "      <td>Sonder (NYC)</td>\n",
              "      <td>397.56</td>\n",
              "    </tr>\n",
              "    <tr>\n",
              "      <th>35807</th>\n",
              "      <td>244361589</td>\n",
              "      <td>Row NYC</td>\n",
              "      <td>111.72</td>\n",
              "    </tr>\n",
              "    <tr>\n",
              "      <th>35389</th>\n",
              "      <td>232251881</td>\n",
              "      <td>Lakshmee</td>\n",
              "      <td>80.63</td>\n",
              "    </tr>\n",
              "    <tr>\n",
              "      <th>18626</th>\n",
              "      <td>26432133</td>\n",
              "      <td>Danielle</td>\n",
              "      <td>68.02</td>\n",
              "    </tr>\n",
              "    <tr>\n",
              "      <th>31055</th>\n",
              "      <td>137274917</td>\n",
              "      <td>David</td>\n",
              "      <td>62.89</td>\n",
              "    </tr>\n",
              "    <tr>\n",
              "      <th>34897</th>\n",
              "      <td>224414117</td>\n",
              "      <td>Gabriel</td>\n",
              "      <td>59.10</td>\n",
              "    </tr>\n",
              "    <tr>\n",
              "      <th>32102</th>\n",
              "      <td>156948703</td>\n",
              "      <td>Asad</td>\n",
              "      <td>56.44</td>\n",
              "    </tr>\n",
              "    <tr>\n",
              "      <th>1052</th>\n",
              "      <td>344035</td>\n",
              "      <td>Brooklyn&amp;   Breakfast    -Len-</td>\n",
              "      <td>56.00</td>\n",
              "    </tr>\n",
              "    <tr>\n",
              "      <th>32091</th>\n",
              "      <td>156684502</td>\n",
              "      <td>Nalicia</td>\n",
              "      <td>54.38</td>\n",
              "    </tr>\n",
              "    <tr>\n",
              "      <th>21304</th>\n",
              "      <td>37312959</td>\n",
              "      <td>Maya</td>\n",
              "      <td>53.53</td>\n",
              "    </tr>\n",
              "  </tbody>\n",
              "</table>\n",
              "</div>"
            ],
            "text/plain": [
              "         host_id                       host_name  reviews_per_month\n",
              "34629  219517861                    Sonder (NYC)             397.56\n",
              "35807  244361589                         Row NYC             111.72\n",
              "35389  232251881                        Lakshmee              80.63\n",
              "18626   26432133                        Danielle              68.02\n",
              "31055  137274917                           David              62.89\n",
              "34897  224414117                         Gabriel              59.10\n",
              "32102  156948703                            Asad              56.44\n",
              "1052      344035  Brooklyn&   Breakfast    -Len-              56.00\n",
              "32091  156684502                         Nalicia              54.38\n",
              "21304   37312959                            Maya              53.53"
            ]
          },
          "metadata": {},
          "execution_count": 47
        }
      ]
    },
    {
      "cell_type": "code",
      "metadata": {
        "colab": {
          "base_uri": "https://localhost:8080/",
          "height": 596
        },
        "id": "ENjDnqRwyS2o",
        "outputId": "3e1b7700-3346-4a01-f4dc-1939e4e91d03"
      },
      "source": [
        "#visualizing highest number of reviews\n",
        "plt.rcParams['figure.figsize']=(15,7)\n",
        "highest_number_of_reviews_per_month.plot(kind='bar',x='host_name',y='reviews_per_month')"
      ],
      "execution_count": 48,
      "outputs": [
        {
          "output_type": "execute_result",
          "data": {
            "text/plain": [
              "<matplotlib.axes._subplots.AxesSubplot at 0x7f8f96caf0d0>"
            ]
          },
          "metadata": {},
          "execution_count": 48
        },
        {
          "output_type": "display_data",
          "data": {
            "image/png": "[encoded data removed]",
            "text/plain": [
              "<Figure size 1080x504 with 1 Axes>"
            ]
          },
          "metadata": {
            "needs_background": "light"
          }
        }
      ]
    },
    {
      "cell_type": "markdown",
      "metadata": {
        "id": "k5tD10jxydMk"
      },
      "source": [
        "sonder (NYC)\thas the highest number of reviews per month"
      ]
    },
    {
      "cell_type": "markdown",
      "metadata": {
        "id": "jrj3h9GMzMSv"
      },
      "source": [
        "4] which host has most expensive room per night"
      ]
    },
    {
      "cell_type": "code",
      "metadata": {
        "colab": {
          "base_uri": "https://localhost:8080/",
          "height": 204
        },
        "id": "lTIJl9mPyTCv",
        "outputId": "9bb663c7-0e59-4589-c29b-bd7532e8f139"
      },
      "source": [
        "#getting price column in Descending Order.\n",
        "which_host_has_most_expensive_room_per_night=airbnb_df_new.sort_values('price',ascending=False).head()\n",
        "which_host_has_most_expensive_room_per_night "
      ],
      "execution_count": 49,
      "outputs": [
        {
          "output_type": "execute_result",
          "data": {
            "text/html": [
              "<div>\n",
              "<style scoped>\n",
              "    .dataframe tbody tr th:only-of-type {\n",
              "        vertical-align: middle;\n",
              "    }\n",
              "\n",
              "    .dataframe tbody tr th {\n",
              "        vertical-align: top;\n",
              "    }\n",
              "\n",
              "    .dataframe thead th {\n",
              "        text-align: right;\n",
              "    }\n",
              "</style>\n",
              "<table border=\"1\" class=\"dataframe\">\n",
              "  <thead>\n",
              "    <tr style=\"text-align: right;\">\n",
              "      <th></th>\n",
              "      <th>host_id</th>\n",
              "      <th>host_name</th>\n",
              "      <th>price</th>\n",
              "      <th>number_of_reviews</th>\n",
              "      <th>reviews_per_month</th>\n",
              "      <th>availability_365</th>\n",
              "    </tr>\n",
              "  </thead>\n",
              "  <tbody>\n",
              "    <tr>\n",
              "      <th>29238</th>\n",
              "      <td>72390391</td>\n",
              "      <td>Jelena</td>\n",
              "      <td>10000</td>\n",
              "      <td>0</td>\n",
              "      <td>0.00</td>\n",
              "      <td>83</td>\n",
              "    </tr>\n",
              "    <tr>\n",
              "      <th>9151</th>\n",
              "      <td>20582832</td>\n",
              "      <td>Kathrine</td>\n",
              "      <td>10000</td>\n",
              "      <td>2</td>\n",
              "      <td>0.04</td>\n",
              "      <td>0</td>\n",
              "    </tr>\n",
              "    <tr>\n",
              "      <th>17692</th>\n",
              "      <td>5143901</td>\n",
              "      <td>Erin</td>\n",
              "      <td>10000</td>\n",
              "      <td>5</td>\n",
              "      <td>0.16</td>\n",
              "      <td>0</td>\n",
              "    </tr>\n",
              "    <tr>\n",
              "      <th>40433</th>\n",
              "      <td>4382127</td>\n",
              "      <td>Matt</td>\n",
              "      <td>9999</td>\n",
              "      <td>0</td>\n",
              "      <td>0.00</td>\n",
              "      <td>365</td>\n",
              "    </tr>\n",
              "    <tr>\n",
              "      <th>6530</th>\n",
              "      <td>1235070</td>\n",
              "      <td>Olson</td>\n",
              "      <td>9999</td>\n",
              "      <td>1</td>\n",
              "      <td>0.02</td>\n",
              "      <td>0</td>\n",
              "    </tr>\n",
              "  </tbody>\n",
              "</table>\n",
              "</div>"
            ],
            "text/plain": [
              "        host_id host_name  ...  reviews_per_month  availability_365\n",
              "29238  72390391    Jelena  ...               0.00                83\n",
              "9151   20582832  Kathrine  ...               0.04                 0\n",
              "17692   5143901      Erin  ...               0.16                 0\n",
              "40433   4382127      Matt  ...               0.00               365\n",
              "6530    1235070     Olson  ...               0.02                 0\n",
              "\n",
              "[5 rows x 6 columns]"
            ]
          },
          "metadata": {},
          "execution_count": 49
        }
      ]
    },
    {
      "cell_type": "code",
      "metadata": {
        "colab": {
          "base_uri": "https://localhost:8080/",
          "height": 204
        },
        "id": "Jc6CacQKzN9x",
        "outputId": "64de197a-ba28-494a-d477-6bebb686d124"
      },
      "source": [
        "#Kathrine has the most expensive room per night\n",
        "which_host_has_most_expensive_room_per_night.loc[:,['host_name','price',]]"
      ],
      "execution_count": 50,
      "outputs": [
        {
          "output_type": "execute_result",
          "data": {
            "text/html": [
              "<div>\n",
              "<style scoped>\n",
              "    .dataframe tbody tr th:only-of-type {\n",
              "        vertical-align: middle;\n",
              "    }\n",
              "\n",
              "    .dataframe tbody tr th {\n",
              "        vertical-align: top;\n",
              "    }\n",
              "\n",
              "    .dataframe thead th {\n",
              "        text-align: right;\n",
              "    }\n",
              "</style>\n",
              "<table border=\"1\" class=\"dataframe\">\n",
              "  <thead>\n",
              "    <tr style=\"text-align: right;\">\n",
              "      <th></th>\n",
              "      <th>host_name</th>\n",
              "      <th>price</th>\n",
              "    </tr>\n",
              "  </thead>\n",
              "  <tbody>\n",
              "    <tr>\n",
              "      <th>29238</th>\n",
              "      <td>Jelena</td>\n",
              "      <td>10000</td>\n",
              "    </tr>\n",
              "    <tr>\n",
              "      <th>9151</th>\n",
              "      <td>Kathrine</td>\n",
              "      <td>10000</td>\n",
              "    </tr>\n",
              "    <tr>\n",
              "      <th>17692</th>\n",
              "      <td>Erin</td>\n",
              "      <td>10000</td>\n",
              "    </tr>\n",
              "    <tr>\n",
              "      <th>40433</th>\n",
              "      <td>Matt</td>\n",
              "      <td>9999</td>\n",
              "    </tr>\n",
              "    <tr>\n",
              "      <th>6530</th>\n",
              "      <td>Olson</td>\n",
              "      <td>9999</td>\n",
              "    </tr>\n",
              "  </tbody>\n",
              "</table>\n",
              "</div>"
            ],
            "text/plain": [
              "      host_name  price\n",
              "29238    Jelena  10000\n",
              "9151   Kathrine  10000\n",
              "17692      Erin  10000\n",
              "40433      Matt   9999\n",
              "6530      Olson   9999"
            ]
          },
          "metadata": {},
          "execution_count": 50
        }
      ]
    },
    {
      "cell_type": "code",
      "metadata": {
        "colab": {
          "base_uri": "https://localhost:8080/"
        },
        "id": "9ZpsdvTzyTF_",
        "outputId": "661e61fc-e6e0-416b-b00a-4d73e89a96f8"
      },
      "source": [
        "#let us see what is the price of most expensive room\n",
        "airbnb_df_new['price'].max()"
      ],
      "execution_count": 51,
      "outputs": [
        {
          "output_type": "execute_result",
          "data": {
            "text/plain": [
              "10000"
            ]
          },
          "metadata": {},
          "execution_count": 51
        }
      ]
    },
    {
      "cell_type": "code",
      "metadata": {
        "colab": {
          "base_uri": "https://localhost:8080/",
          "height": 493
        },
        "id": "v-DVzCKHyTQq",
        "outputId": "47d304e8-2135-4bee-d1f9-b20fecbe9cde"
      },
      "source": [
        "#visualizing which host has most expensive room per night\n",
        "which_host_has_most_expensive_room_per_night.plot(kind='bar',x='host_name',y='price')"
      ],
      "execution_count": 52,
      "outputs": [
        {
          "output_type": "execute_result",
          "data": {
            "text/plain": [
              "<matplotlib.axes._subplots.AxesSubplot at 0x7f8f96ba8dd0>"
            ]
          },
          "metadata": {},
          "execution_count": 52
        },
        {
          "output_type": "display_data",
          "data": {
            "image/png": "[encoded data removed]",
            "text/plain": [
              "<Figure size 1080x504 with 1 Axes>"
            ]
          },
          "metadata": {
            "needs_background": "light"
          }
        }
      ]
    },
    {
      "cell_type": "markdown",
      "metadata": {
        "id": "uX9fQ40bzZB2"
      },
      "source": [
        "Jelena,Kathrine and Erin has most expensive room per night"
      ]
    },
    {
      "cell_type": "markdown",
      "metadata": {
        "id": "8zozjICO9dMB"
      },
      "source": [
        "5] which host has cheapest room per night"
      ]
    },
    {
      "cell_type": "code",
      "metadata": {
        "colab": {
          "base_uri": "https://localhost:8080/",
          "height": 204
        },
        "id": "zM1EqIeo9rs8",
        "outputId": "d6f4726e-7a6e-4c14-de18-da65c5f11eae"
      },
      "source": [
        "#To get the price_per_night column in ascending order\n",
        "airbnb_df_new.sort_values('price',ascending=True).head()"
      ],
      "execution_count": 53,
      "outputs": [
        {
          "output_type": "execute_result",
          "data": {
            "text/html": [
              "<div>\n",
              "<style scoped>\n",
              "    .dataframe tbody tr th:only-of-type {\n",
              "        vertical-align: middle;\n",
              "    }\n",
              "\n",
              "    .dataframe tbody tr th {\n",
              "        vertical-align: top;\n",
              "    }\n",
              "\n",
              "    .dataframe thead th {\n",
              "        text-align: right;\n",
              "    }\n",
              "</style>\n",
              "<table border=\"1\" class=\"dataframe\">\n",
              "  <thead>\n",
              "    <tr style=\"text-align: right;\">\n",
              "      <th></th>\n",
              "      <th>host_id</th>\n",
              "      <th>host_name</th>\n",
              "      <th>price</th>\n",
              "      <th>number_of_reviews</th>\n",
              "      <th>reviews_per_month</th>\n",
              "      <th>availability_365</th>\n",
              "    </tr>\n",
              "  </thead>\n",
              "  <tbody>\n",
              "    <tr>\n",
              "      <th>23161</th>\n",
              "      <td>8993084</td>\n",
              "      <td>Kimberly</td>\n",
              "      <td>0</td>\n",
              "      <td>1</td>\n",
              "      <td>0.05</td>\n",
              "      <td>28</td>\n",
              "    </tr>\n",
              "    <tr>\n",
              "      <th>25794</th>\n",
              "      <td>86327101</td>\n",
              "      <td>Adeyemi</td>\n",
              "      <td>0</td>\n",
              "      <td>93</td>\n",
              "      <td>4.28</td>\n",
              "      <td>176</td>\n",
              "    </tr>\n",
              "    <tr>\n",
              "      <th>26259</th>\n",
              "      <td>13709292</td>\n",
              "      <td>Qiuchi</td>\n",
              "      <td>0</td>\n",
              "      <td>0</td>\n",
              "      <td>0.00</td>\n",
              "      <td>0</td>\n",
              "    </tr>\n",
              "    <tr>\n",
              "      <th>26866</th>\n",
              "      <td>101970559</td>\n",
              "      <td>Sergii</td>\n",
              "      <td>0</td>\n",
              "      <td>5</td>\n",
              "      <td>0.26</td>\n",
              "      <td>139</td>\n",
              "    </tr>\n",
              "    <tr>\n",
              "      <th>26841</th>\n",
              "      <td>101970559</td>\n",
              "      <td>Sergii</td>\n",
              "      <td>0</td>\n",
              "      <td>2</td>\n",
              "      <td>0.11</td>\n",
              "      <td>333</td>\n",
              "    </tr>\n",
              "  </tbody>\n",
              "</table>\n",
              "</div>"
            ],
            "text/plain": [
              "         host_id host_name  ...  reviews_per_month  availability_365\n",
              "23161    8993084  Kimberly  ...               0.05                28\n",
              "25794   86327101   Adeyemi  ...               4.28               176\n",
              "26259   13709292    Qiuchi  ...               0.00                 0\n",
              "26866  101970559    Sergii  ...               0.26               139\n",
              "26841  101970559    Sergii  ...               0.11               333\n",
              "\n",
              "[5 rows x 6 columns]"
            ]
          },
          "metadata": {},
          "execution_count": 53
        }
      ]
    },
    {
      "cell_type": "markdown",
      "metadata": {
        "id": "TeK_kap09zrI"
      },
      "source": [
        "here in above table it is showing that the cheapest price per night is zero but nobody going to give room for free so this data is not clean let us first clean the data"
      ]
    },
    {
      "cell_type": "code",
      "metadata": {
        "colab": {
          "base_uri": "https://localhost:8080/",
          "height": 669
        },
        "id": "6GTsGht29r2z",
        "outputId": "748446d3-d869-468f-c2ff-f5dc8ce2896d"
      },
      "source": [
        "#getting practical values of price per night column\n",
        "the_actual_value_of_price_per_night_column=airbnb_df_new[airbnb_df_new['price']>0].sort_values('price',ascending=True).head(20)\n",
        "the_actual_value_of_price_per_night_column"
      ],
      "execution_count": 54,
      "outputs": [
        {
          "output_type": "execute_result",
          "data": {
            "text/html": [
              "<div>\n",
              "<style scoped>\n",
              "    .dataframe tbody tr th:only-of-type {\n",
              "        vertical-align: middle;\n",
              "    }\n",
              "\n",
              "    .dataframe tbody tr th {\n",
              "        vertical-align: top;\n",
              "    }\n",
              "\n",
              "    .dataframe thead th {\n",
              "        text-align: right;\n",
              "    }\n",
              "</style>\n",
              "<table border=\"1\" class=\"dataframe\">\n",
              "  <thead>\n",
              "    <tr style=\"text-align: right;\">\n",
              "      <th></th>\n",
              "      <th>host_id</th>\n",
              "      <th>host_name</th>\n",
              "      <th>price</th>\n",
              "      <th>number_of_reviews</th>\n",
              "      <th>reviews_per_month</th>\n",
              "      <th>availability_365</th>\n",
              "    </tr>\n",
              "  </thead>\n",
              "  <tbody>\n",
              "    <tr>\n",
              "      <th>35386</th>\n",
              "      <td>47516406</td>\n",
              "      <td>Arthur</td>\n",
              "      <td>10</td>\n",
              "      <td>4</td>\n",
              "      <td>0.41</td>\n",
              "      <td>180</td>\n",
              "    </tr>\n",
              "    <tr>\n",
              "      <th>32810</th>\n",
              "      <td>167570251</td>\n",
              "      <td>Rachel</td>\n",
              "      <td>10</td>\n",
              "      <td>14</td>\n",
              "      <td>1.06</td>\n",
              "      <td>4</td>\n",
              "    </tr>\n",
              "    <tr>\n",
              "      <th>34446</th>\n",
              "      <td>205820814</td>\n",
              "      <td>Luz</td>\n",
              "      <td>10</td>\n",
              "      <td>0</td>\n",
              "      <td>0.00</td>\n",
              "      <td>180</td>\n",
              "    </tr>\n",
              "    <tr>\n",
              "      <th>33225</th>\n",
              "      <td>197169969</td>\n",
              "      <td>Maria</td>\n",
              "      <td>10</td>\n",
              "      <td>22</td>\n",
              "      <td>1.76</td>\n",
              "      <td>332</td>\n",
              "    </tr>\n",
              "    <tr>\n",
              "      <th>31407</th>\n",
              "      <td>91034542</td>\n",
              "      <td>Maureen</td>\n",
              "      <td>10</td>\n",
              "      <td>42</td>\n",
              "      <td>2.87</td>\n",
              "      <td>2</td>\n",
              "    </tr>\n",
              "    <tr>\n",
              "      <th>27972</th>\n",
              "      <td>11967922</td>\n",
              "      <td>Vishanti &amp; Jeremy</td>\n",
              "      <td>10</td>\n",
              "      <td>93</td>\n",
              "      <td>4.73</td>\n",
              "      <td>32</td>\n",
              "    </tr>\n",
              "    <tr>\n",
              "      <th>33505</th>\n",
              "      <td>110049861</td>\n",
              "      <td>Martin</td>\n",
              "      <td>10</td>\n",
              "      <td>0</td>\n",
              "      <td>0.00</td>\n",
              "      <td>83</td>\n",
              "    </tr>\n",
              "    <tr>\n",
              "      <th>2860</th>\n",
              "      <td>2196224</td>\n",
              "      <td>Sally</td>\n",
              "      <td>10</td>\n",
              "      <td>0</td>\n",
              "      <td>0.00</td>\n",
              "      <td>137</td>\n",
              "    </tr>\n",
              "    <tr>\n",
              "      <th>47218</th>\n",
              "      <td>268138154</td>\n",
              "      <td>Julio</td>\n",
              "      <td>10</td>\n",
              "      <td>2</td>\n",
              "      <td>2.00</td>\n",
              "      <td>0</td>\n",
              "    </tr>\n",
              "    <tr>\n",
              "      <th>21700</th>\n",
              "      <td>33511962</td>\n",
              "      <td>Morgan</td>\n",
              "      <td>10</td>\n",
              "      <td>0</td>\n",
              "      <td>0.00</td>\n",
              "      <td>0</td>\n",
              "    </tr>\n",
              "    <tr>\n",
              "      <th>24100</th>\n",
              "      <td>47336995</td>\n",
              "      <td>Mario</td>\n",
              "      <td>10</td>\n",
              "      <td>2</td>\n",
              "      <td>0.08</td>\n",
              "      <td>0</td>\n",
              "    </tr>\n",
              "    <tr>\n",
              "      <th>31066</th>\n",
              "      <td>180661875</td>\n",
              "      <td>Salim</td>\n",
              "      <td>10</td>\n",
              "      <td>2</td>\n",
              "      <td>0.13</td>\n",
              "      <td>0</td>\n",
              "    </tr>\n",
              "    <tr>\n",
              "      <th>22261</th>\n",
              "      <td>62685070</td>\n",
              "      <td>Katie</td>\n",
              "      <td>10</td>\n",
              "      <td>0</td>\n",
              "      <td>0.00</td>\n",
              "      <td>0</td>\n",
              "    </tr>\n",
              "    <tr>\n",
              "      <th>22835</th>\n",
              "      <td>97001292</td>\n",
              "      <td>Maria</td>\n",
              "      <td>10</td>\n",
              "      <td>43</td>\n",
              "      <td>1.68</td>\n",
              "      <td>252</td>\n",
              "    </tr>\n",
              "    <tr>\n",
              "      <th>22287</th>\n",
              "      <td>84497333</td>\n",
              "      <td>Jennifer</td>\n",
              "      <td>10</td>\n",
              "      <td>2</td>\n",
              "      <td>0.07</td>\n",
              "      <td>0</td>\n",
              "    </tr>\n",
              "    <tr>\n",
              "      <th>35601</th>\n",
              "      <td>647528</td>\n",
              "      <td>Caterina</td>\n",
              "      <td>10</td>\n",
              "      <td>5</td>\n",
              "      <td>0.51</td>\n",
              "      <td>0</td>\n",
              "    </tr>\n",
              "    <tr>\n",
              "      <th>23256</th>\n",
              "      <td>52777892</td>\n",
              "      <td>Amy</td>\n",
              "      <td>10</td>\n",
              "      <td>10</td>\n",
              "      <td>0.39</td>\n",
              "      <td>0</td>\n",
              "    </tr>\n",
              "    <tr>\n",
              "      <th>20992</th>\n",
              "      <td>109725962</td>\n",
              "      <td>Erika</td>\n",
              "      <td>11</td>\n",
              "      <td>113</td>\n",
              "      <td>3.86</td>\n",
              "      <td>261</td>\n",
              "    </tr>\n",
              "    <tr>\n",
              "      <th>46049</th>\n",
              "      <td>19342</td>\n",
              "      <td>Rivka</td>\n",
              "      <td>11</td>\n",
              "      <td>0</td>\n",
              "      <td>0.00</td>\n",
              "      <td>273</td>\n",
              "    </tr>\n",
              "    <tr>\n",
              "      <th>35005</th>\n",
              "      <td>205706382</td>\n",
              "      <td>Peter</td>\n",
              "      <td>11</td>\n",
              "      <td>0</td>\n",
              "      <td>0.00</td>\n",
              "      <td>245</td>\n",
              "    </tr>\n",
              "  </tbody>\n",
              "</table>\n",
              "</div>"
            ],
            "text/plain": [
              "         host_id          host_name  ...  reviews_per_month  availability_365\n",
              "35386   47516406             Arthur  ...               0.41               180\n",
              "32810  167570251             Rachel  ...               1.06                 4\n",
              "34446  205820814                Luz  ...               0.00               180\n",
              "33225  197169969              Maria  ...               1.76               332\n",
              "31407   91034542            Maureen  ...               2.87                 2\n",
              "27972   11967922  Vishanti & Jeremy  ...               4.73                32\n",
              "33505  110049861             Martin  ...               0.00                83\n",
              "2860     2196224              Sally  ...               0.00               137\n",
              "47218  268138154              Julio  ...               2.00                 0\n",
              "21700   33511962             Morgan  ...               0.00                 0\n",
              "24100   47336995              Mario  ...               0.08                 0\n",
              "31066  180661875              Salim  ...               0.13                 0\n",
              "22261   62685070              Katie  ...               0.00                 0\n",
              "22835   97001292              Maria  ...               1.68               252\n",
              "22287   84497333           Jennifer  ...               0.07                 0\n",
              "35601     647528           Caterina  ...               0.51                 0\n",
              "23256   52777892                Amy  ...               0.39                 0\n",
              "20992  109725962              Erika  ...               3.86               261\n",
              "46049      19342              Rivka  ...               0.00               273\n",
              "35005  205706382              Peter  ...               0.00               245\n",
              "\n",
              "[20 rows x 6 columns]"
            ]
          },
          "metadata": {},
          "execution_count": 54
        }
      ]
    },
    {
      "cell_type": "markdown",
      "metadata": {
        "id": "PIOC-h1197yK"
      },
      "source": [
        "here in the above table by putting condition we have actual data now we can proceed "
      ]
    },
    {
      "cell_type": "code",
      "metadata": {
        "colab": {
          "base_uri": "https://localhost:8080/",
          "height": 669
        },
        "id": "WKfCuv-Z9r9d",
        "outputId": "f22e145b-03f8-43a3-8c0c-5df57c246f17"
      },
      "source": [
        "#which host has cheapest room per night\n",
        "which_host_has_cheapest_room_per_night=the_actual_value_of_price_per_night_column.loc[:,['host_name','price']]\n",
        "which_host_has_cheapest_room_per_night"
      ],
      "execution_count": 55,
      "outputs": [
        {
          "output_type": "execute_result",
          "data": {
            "text/html": [
              "<div>\n",
              "<style scoped>\n",
              "    .dataframe tbody tr th:only-of-type {\n",
              "        vertical-align: middle;\n",
              "    }\n",
              "\n",
              "    .dataframe tbody tr th {\n",
              "        vertical-align: top;\n",
              "    }\n",
              "\n",
              "    .dataframe thead th {\n",
              "        text-align: right;\n",
              "    }\n",
              "</style>\n",
              "<table border=\"1\" class=\"dataframe\">\n",
              "  <thead>\n",
              "    <tr style=\"text-align: right;\">\n",
              "      <th></th>\n",
              "      <th>host_name</th>\n",
              "      <th>price</th>\n",
              "    </tr>\n",
              "  </thead>\n",
              "  <tbody>\n",
              "    <tr>\n",
              "      <th>35386</th>\n",
              "      <td>Arthur</td>\n",
              "      <td>10</td>\n",
              "    </tr>\n",
              "    <tr>\n",
              "      <th>32810</th>\n",
              "      <td>Rachel</td>\n",
              "      <td>10</td>\n",
              "    </tr>\n",
              "    <tr>\n",
              "      <th>34446</th>\n",
              "      <td>Luz</td>\n",
              "      <td>10</td>\n",
              "    </tr>\n",
              "    <tr>\n",
              "      <th>33225</th>\n",
              "      <td>Maria</td>\n",
              "      <td>10</td>\n",
              "    </tr>\n",
              "    <tr>\n",
              "      <th>31407</th>\n",
              "      <td>Maureen</td>\n",
              "      <td>10</td>\n",
              "    </tr>\n",
              "    <tr>\n",
              "      <th>27972</th>\n",
              "      <td>Vishanti &amp; Jeremy</td>\n",
              "      <td>10</td>\n",
              "    </tr>\n",
              "    <tr>\n",
              "      <th>33505</th>\n",
              "      <td>Martin</td>\n",
              "      <td>10</td>\n",
              "    </tr>\n",
              "    <tr>\n",
              "      <th>2860</th>\n",
              "      <td>Sally</td>\n",
              "      <td>10</td>\n",
              "    </tr>\n",
              "    <tr>\n",
              "      <th>47218</th>\n",
              "      <td>Julio</td>\n",
              "      <td>10</td>\n",
              "    </tr>\n",
              "    <tr>\n",
              "      <th>21700</th>\n",
              "      <td>Morgan</td>\n",
              "      <td>10</td>\n",
              "    </tr>\n",
              "    <tr>\n",
              "      <th>24100</th>\n",
              "      <td>Mario</td>\n",
              "      <td>10</td>\n",
              "    </tr>\n",
              "    <tr>\n",
              "      <th>31066</th>\n",
              "      <td>Salim</td>\n",
              "      <td>10</td>\n",
              "    </tr>\n",
              "    <tr>\n",
              "      <th>22261</th>\n",
              "      <td>Katie</td>\n",
              "      <td>10</td>\n",
              "    </tr>\n",
              "    <tr>\n",
              "      <th>22835</th>\n",
              "      <td>Maria</td>\n",
              "      <td>10</td>\n",
              "    </tr>\n",
              "    <tr>\n",
              "      <th>22287</th>\n",
              "      <td>Jennifer</td>\n",
              "      <td>10</td>\n",
              "    </tr>\n",
              "    <tr>\n",
              "      <th>35601</th>\n",
              "      <td>Caterina</td>\n",
              "      <td>10</td>\n",
              "    </tr>\n",
              "    <tr>\n",
              "      <th>23256</th>\n",
              "      <td>Amy</td>\n",
              "      <td>10</td>\n",
              "    </tr>\n",
              "    <tr>\n",
              "      <th>20992</th>\n",
              "      <td>Erika</td>\n",
              "      <td>11</td>\n",
              "    </tr>\n",
              "    <tr>\n",
              "      <th>46049</th>\n",
              "      <td>Rivka</td>\n",
              "      <td>11</td>\n",
              "    </tr>\n",
              "    <tr>\n",
              "      <th>35005</th>\n",
              "      <td>Peter</td>\n",
              "      <td>11</td>\n",
              "    </tr>\n",
              "  </tbody>\n",
              "</table>\n",
              "</div>"
            ],
            "text/plain": [
              "               host_name  price\n",
              "35386             Arthur     10\n",
              "32810             Rachel     10\n",
              "34446                Luz     10\n",
              "33225              Maria     10\n",
              "31407            Maureen     10\n",
              "27972  Vishanti & Jeremy     10\n",
              "33505             Martin     10\n",
              "2860               Sally     10\n",
              "47218              Julio     10\n",
              "21700             Morgan     10\n",
              "24100              Mario     10\n",
              "31066              Salim     10\n",
              "22261              Katie     10\n",
              "22835              Maria     10\n",
              "22287           Jennifer     10\n",
              "35601           Caterina     10\n",
              "23256                Amy     10\n",
              "20992              Erika     11\n",
              "46049              Rivka     11\n",
              "35005              Peter     11"
            ]
          },
          "metadata": {},
          "execution_count": 55
        }
      ]
    },
    {
      "cell_type": "code",
      "metadata": {
        "colab": {
          "base_uri": "https://localhost:8080/"
        },
        "id": "nXm8IA8O9sFR",
        "outputId": "e4c062c0-a380-408f-e3a2-daff61285896"
      },
      "source": [
        "#let us see what is the price of cheapest room\n",
        "which_host_has_cheapest_room_per_night['price'].min()"
      ],
      "execution_count": 56,
      "outputs": [
        {
          "output_type": "execute_result",
          "data": {
            "text/plain": [
              "10"
            ]
          },
          "metadata": {},
          "execution_count": 56
        }
      ]
    },
    {
      "cell_type": "code",
      "metadata": {
        "colab": {
          "base_uri": "https://localhost:8080/",
          "height": 539
        },
        "id": "onI-SYTg9sMt",
        "outputId": "4170e869-92bc-4b5d-8a87-a8bf978f074f"
      },
      "source": [
        "#visualizing which host has cheapest room per night \n",
        "which_host_has_cheapest_room_per_night.plot(kind='bar',x='host_name',y='price')"
      ],
      "execution_count": 57,
      "outputs": [
        {
          "output_type": "execute_result",
          "data": {
            "text/plain": [
              "<matplotlib.axes._subplots.AxesSubplot at 0x7f8f96b2b510>"
            ]
          },
          "metadata": {},
          "execution_count": 57
        },
        {
          "output_type": "display_data",
          "data": {
            "image/png": "[encoded data removed]",
            "text/plain": [
              "<Figure size 1080x504 with 1 Axes>"
            ]
          },
          "metadata": {
            "needs_background": "light"
          }
        }
      ]
    },
    {
      "cell_type": "markdown",
      "metadata": {
        "id": "oaW7kER2-Mtg"
      },
      "source": [
        "so Arthur,Rachel,Luz,Maureen,maria,martin,sally,julio,morgan,mario,salim,katie,maria,jennifer,caterina,amy,\n",
        " Vishanti & Jeremy this many hosts has cheapest room per night"
      ]
    },
    {
      "cell_type": "markdown",
      "metadata": {
        "id": "krbW7mfh-R-Y"
      },
      "source": [
        "# Now let us come to the area, Well we can learn following points about the areas:\n",
        "\n",
        "1]which area is the most expensive area    \n",
        "2]which area is the most cheapest area "
      ]
    },
    {
      "cell_type": "code",
      "metadata": {
        "colab": {
          "base_uri": "https://localhost:8080/",
          "height": 411
        },
        "id": "MH2kwr469sTg",
        "outputId": "2dab7778-6097-42c9-98a5-366fa79ab346"
      },
      "source": [
        "#head of airbnb_df\n",
        "airbnb_df.head()"
      ],
      "execution_count": 58,
      "outputs": [
        {
          "output_type": "execute_result",
          "data": {
            "text/html": [
              "<div>\n",
              "<style scoped>\n",
              "    .dataframe tbody tr th:only-of-type {\n",
              "        vertical-align: middle;\n",
              "    }\n",
              "\n",
              "    .dataframe tbody tr th {\n",
              "        vertical-align: top;\n",
              "    }\n",
              "\n",
              "    .dataframe thead th {\n",
              "        text-align: right;\n",
              "    }\n",
              "</style>\n",
              "<table border=\"1\" class=\"dataframe\">\n",
              "  <thead>\n",
              "    <tr style=\"text-align: right;\">\n",
              "      <th></th>\n",
              "      <th>id</th>\n",
              "      <th>name</th>\n",
              "      <th>host_id</th>\n",
              "      <th>host_name</th>\n",
              "      <th>neighbourhood_group</th>\n",
              "      <th>neighbourhood</th>\n",
              "      <th>latitude</th>\n",
              "      <th>longitude</th>\n",
              "      <th>room_type</th>\n",
              "      <th>price</th>\n",
              "      <th>minimum_nights</th>\n",
              "      <th>number_of_reviews</th>\n",
              "      <th>last_review</th>\n",
              "      <th>reviews_per_month</th>\n",
              "      <th>calculated_host_listings_count</th>\n",
              "      <th>availability_365</th>\n",
              "    </tr>\n",
              "  </thead>\n",
              "  <tbody>\n",
              "    <tr>\n",
              "      <th>0</th>\n",
              "      <td>2539</td>\n",
              "      <td>Clean &amp; quiet apt home by the park</td>\n",
              "      <td>2787</td>\n",
              "      <td>John</td>\n",
              "      <td>Brooklyn</td>\n",
              "      <td>Kensington</td>\n",
              "      <td>40.64749</td>\n",
              "      <td>-73.97237</td>\n",
              "      <td>Private room</td>\n",
              "      <td>149</td>\n",
              "      <td>1</td>\n",
              "      <td>9</td>\n",
              "      <td>2018-10-19</td>\n",
              "      <td>0.21</td>\n",
              "      <td>6</td>\n",
              "      <td>365</td>\n",
              "    </tr>\n",
              "    <tr>\n",
              "      <th>1</th>\n",
              "      <td>2595</td>\n",
              "      <td>Skylit Midtown Castle</td>\n",
              "      <td>2845</td>\n",
              "      <td>Jennifer</td>\n",
              "      <td>Manhattan</td>\n",
              "      <td>Midtown</td>\n",
              "      <td>40.75362</td>\n",
              "      <td>-73.98377</td>\n",
              "      <td>Entire home/apt</td>\n",
              "      <td>225</td>\n",
              "      <td>1</td>\n",
              "      <td>45</td>\n",
              "      <td>2019-05-21</td>\n",
              "      <td>0.38</td>\n",
              "      <td>2</td>\n",
              "      <td>355</td>\n",
              "    </tr>\n",
              "    <tr>\n",
              "      <th>2</th>\n",
              "      <td>3647</td>\n",
              "      <td>THE VILLAGE OF HARLEM....NEW YORK !</td>\n",
              "      <td>4632</td>\n",
              "      <td>Elisabeth</td>\n",
              "      <td>Manhattan</td>\n",
              "      <td>Harlem</td>\n",
              "      <td>40.80902</td>\n",
              "      <td>-73.94190</td>\n",
              "      <td>Private room</td>\n",
              "      <td>150</td>\n",
              "      <td>3</td>\n",
              "      <td>0</td>\n",
              "      <td>NaN</td>\n",
              "      <td>NaN</td>\n",
              "      <td>1</td>\n",
              "      <td>365</td>\n",
              "    </tr>\n",
              "    <tr>\n",
              "      <th>3</th>\n",
              "      <td>3831</td>\n",
              "      <td>Cozy Entire Floor of Brownstone</td>\n",
              "      <td>4869</td>\n",
              "      <td>LisaRoxanne</td>\n",
              "      <td>Brooklyn</td>\n",
              "      <td>Clinton Hill</td>\n",
              "      <td>40.68514</td>\n",
              "      <td>-73.95976</td>\n",
              "      <td>Entire home/apt</td>\n",
              "      <td>89</td>\n",
              "      <td>1</td>\n",
              "      <td>270</td>\n",
              "      <td>2019-07-05</td>\n",
              "      <td>4.64</td>\n",
              "      <td>1</td>\n",
              "      <td>194</td>\n",
              "    </tr>\n",
              "    <tr>\n",
              "      <th>4</th>\n",
              "      <td>5022</td>\n",
              "      <td>Entire Apt: Spacious Studio/Loft by central park</td>\n",
              "      <td>7192</td>\n",
              "      <td>Laura</td>\n",
              "      <td>Manhattan</td>\n",
              "      <td>East Harlem</td>\n",
              "      <td>40.79851</td>\n",
              "      <td>-73.94399</td>\n",
              "      <td>Entire home/apt</td>\n",
              "      <td>80</td>\n",
              "      <td>10</td>\n",
              "      <td>9</td>\n",
              "      <td>2018-11-19</td>\n",
              "      <td>0.10</td>\n",
              "      <td>1</td>\n",
              "      <td>0</td>\n",
              "    </tr>\n",
              "  </tbody>\n",
              "</table>\n",
              "</div>"
            ],
            "text/plain": [
              "     id  ... availability_365\n",
              "0  2539  ...              365\n",
              "1  2595  ...              355\n",
              "2  3647  ...              365\n",
              "3  3831  ...              194\n",
              "4  5022  ...                0\n",
              "\n",
              "[5 rows x 16 columns]"
            ]
          },
          "metadata": {},
          "execution_count": 58
        }
      ]
    },
    {
      "cell_type": "code",
      "metadata": {
        "colab": {
          "base_uri": "https://localhost:8080/",
          "height": 419
        },
        "id": "2zOHZvE79sZO",
        "outputId": "ddef7845-561d-4205-d75b-3fc2e4d0090a"
      },
      "source": [
        "#getting thoes colunms which is required for analysis of area\n",
        "new_airbnb_df=airbnb_df.loc[:,['neighbourhood_group','neighbourhood','latitude','longitude','price',]]\n",
        "new_airbnb_df"
      ],
      "execution_count": 59,
      "outputs": [
        {
          "output_type": "execute_result",
          "data": {
            "text/html": [
              "<div>\n",
              "<style scoped>\n",
              "    .dataframe tbody tr th:only-of-type {\n",
              "        vertical-align: middle;\n",
              "    }\n",
              "\n",
              "    .dataframe tbody tr th {\n",
              "        vertical-align: top;\n",
              "    }\n",
              "\n",
              "    .dataframe thead th {\n",
              "        text-align: right;\n",
              "    }\n",
              "</style>\n",
              "<table border=\"1\" class=\"dataframe\">\n",
              "  <thead>\n",
              "    <tr style=\"text-align: right;\">\n",
              "      <th></th>\n",
              "      <th>neighbourhood_group</th>\n",
              "      <th>neighbourhood</th>\n",
              "      <th>latitude</th>\n",
              "      <th>longitude</th>\n",
              "      <th>price</th>\n",
              "    </tr>\n",
              "  </thead>\n",
              "  <tbody>\n",
              "    <tr>\n",
              "      <th>0</th>\n",
              "      <td>Brooklyn</td>\n",
              "      <td>Kensington</td>\n",
              "      <td>40.64749</td>\n",
              "      <td>-73.97237</td>\n",
              "      <td>149</td>\n",
              "    </tr>\n",
              "    <tr>\n",
              "      <th>1</th>\n",
              "      <td>Manhattan</td>\n",
              "      <td>Midtown</td>\n",
              "      <td>40.75362</td>\n",
              "      <td>-73.98377</td>\n",
              "      <td>225</td>\n",
              "    </tr>\n",
              "    <tr>\n",
              "      <th>2</th>\n",
              "      <td>Manhattan</td>\n",
              "      <td>Harlem</td>\n",
              "      <td>40.80902</td>\n",
              "      <td>-73.94190</td>\n",
              "      <td>150</td>\n",
              "    </tr>\n",
              "    <tr>\n",
              "      <th>3</th>\n",
              "      <td>Brooklyn</td>\n",
              "      <td>Clinton Hill</td>\n",
              "      <td>40.68514</td>\n",
              "      <td>-73.95976</td>\n",
              "      <td>89</td>\n",
              "    </tr>\n",
              "    <tr>\n",
              "      <th>4</th>\n",
              "      <td>Manhattan</td>\n",
              "      <td>East Harlem</td>\n",
              "      <td>40.79851</td>\n",
              "      <td>-73.94399</td>\n",
              "      <td>80</td>\n",
              "    </tr>\n",
              "    <tr>\n",
              "      <th>...</th>\n",
              "      <td>...</td>\n",
              "      <td>...</td>\n",
              "      <td>...</td>\n",
              "      <td>...</td>\n",
              "      <td>...</td>\n",
              "    </tr>\n",
              "    <tr>\n",
              "      <th>48890</th>\n",
              "      <td>Brooklyn</td>\n",
              "      <td>Bedford-Stuyvesant</td>\n",
              "      <td>40.67853</td>\n",
              "      <td>-73.94995</td>\n",
              "      <td>70</td>\n",
              "    </tr>\n",
              "    <tr>\n",
              "      <th>48891</th>\n",
              "      <td>Brooklyn</td>\n",
              "      <td>Bushwick</td>\n",
              "      <td>40.70184</td>\n",
              "      <td>-73.93317</td>\n",
              "      <td>40</td>\n",
              "    </tr>\n",
              "    <tr>\n",
              "      <th>48892</th>\n",
              "      <td>Manhattan</td>\n",
              "      <td>Harlem</td>\n",
              "      <td>40.81475</td>\n",
              "      <td>-73.94867</td>\n",
              "      <td>115</td>\n",
              "    </tr>\n",
              "    <tr>\n",
              "      <th>48893</th>\n",
              "      <td>Manhattan</td>\n",
              "      <td>Hell's Kitchen</td>\n",
              "      <td>40.75751</td>\n",
              "      <td>-73.99112</td>\n",
              "      <td>55</td>\n",
              "    </tr>\n",
              "    <tr>\n",
              "      <th>48894</th>\n",
              "      <td>Manhattan</td>\n",
              "      <td>Hell's Kitchen</td>\n",
              "      <td>40.76404</td>\n",
              "      <td>-73.98933</td>\n",
              "      <td>90</td>\n",
              "    </tr>\n",
              "  </tbody>\n",
              "</table>\n",
              "<p>48895 rows × 5 columns</p>\n",
              "</div>"
            ],
            "text/plain": [
              "      neighbourhood_group       neighbourhood  latitude  longitude  price\n",
              "0                Brooklyn          Kensington  40.64749  -73.97237    149\n",
              "1               Manhattan             Midtown  40.75362  -73.98377    225\n",
              "2               Manhattan              Harlem  40.80902  -73.94190    150\n",
              "3                Brooklyn        Clinton Hill  40.68514  -73.95976     89\n",
              "4               Manhattan         East Harlem  40.79851  -73.94399     80\n",
              "...                   ...                 ...       ...        ...    ...\n",
              "48890            Brooklyn  Bedford-Stuyvesant  40.67853  -73.94995     70\n",
              "48891            Brooklyn            Bushwick  40.70184  -73.93317     40\n",
              "48892           Manhattan              Harlem  40.81475  -73.94867    115\n",
              "48893           Manhattan      Hell's Kitchen  40.75751  -73.99112     55\n",
              "48894           Manhattan      Hell's Kitchen  40.76404  -73.98933     90\n",
              "\n",
              "[48895 rows x 5 columns]"
            ]
          },
          "metadata": {},
          "execution_count": 59
        }
      ]
    },
    {
      "cell_type": "code",
      "metadata": {
        "colab": {
          "base_uri": "https://localhost:8080/",
          "height": 419
        },
        "id": "N3qeJcUd9sen",
        "outputId": "01a1a133-82e0-49a3-9a14-5c9550bf7c91"
      },
      "source": [
        "ccc=new_airbnb_df.groupby(['neighbourhood_group','neighbourhood'])['price'].mean().reset_index()\n",
        "ccc"
      ],
      "execution_count": 60,
      "outputs": [
        {
          "output_type": "execute_result",
          "data": {
            "text/html": [
              "<div>\n",
              "<style scoped>\n",
              "    .dataframe tbody tr th:only-of-type {\n",
              "        vertical-align: middle;\n",
              "    }\n",
              "\n",
              "    .dataframe tbody tr th {\n",
              "        vertical-align: top;\n",
              "    }\n",
              "\n",
              "    .dataframe thead th {\n",
              "        text-align: right;\n",
              "    }\n",
              "</style>\n",
              "<table border=\"1\" class=\"dataframe\">\n",
              "  <thead>\n",
              "    <tr style=\"text-align: right;\">\n",
              "      <th></th>\n",
              "      <th>neighbourhood_group</th>\n",
              "      <th>neighbourhood</th>\n",
              "      <th>price</th>\n",
              "    </tr>\n",
              "  </thead>\n",
              "  <tbody>\n",
              "    <tr>\n",
              "      <th>0</th>\n",
              "      <td>Bronx</td>\n",
              "      <td>Allerton</td>\n",
              "      <td>87.595238</td>\n",
              "    </tr>\n",
              "    <tr>\n",
              "      <th>1</th>\n",
              "      <td>Bronx</td>\n",
              "      <td>Baychester</td>\n",
              "      <td>75.428571</td>\n",
              "    </tr>\n",
              "    <tr>\n",
              "      <th>2</th>\n",
              "      <td>Bronx</td>\n",
              "      <td>Belmont</td>\n",
              "      <td>77.125000</td>\n",
              "    </tr>\n",
              "    <tr>\n",
              "      <th>3</th>\n",
              "      <td>Bronx</td>\n",
              "      <td>Bronxdale</td>\n",
              "      <td>57.105263</td>\n",
              "    </tr>\n",
              "    <tr>\n",
              "      <th>4</th>\n",
              "      <td>Bronx</td>\n",
              "      <td>Castle Hill</td>\n",
              "      <td>63.000000</td>\n",
              "    </tr>\n",
              "    <tr>\n",
              "      <th>...</th>\n",
              "      <td>...</td>\n",
              "      <td>...</td>\n",
              "      <td>...</td>\n",
              "    </tr>\n",
              "    <tr>\n",
              "      <th>216</th>\n",
              "      <td>Staten Island</td>\n",
              "      <td>Tottenville</td>\n",
              "      <td>144.857143</td>\n",
              "    </tr>\n",
              "    <tr>\n",
              "      <th>217</th>\n",
              "      <td>Staten Island</td>\n",
              "      <td>West Brighton</td>\n",
              "      <td>80.555556</td>\n",
              "    </tr>\n",
              "    <tr>\n",
              "      <th>218</th>\n",
              "      <td>Staten Island</td>\n",
              "      <td>Westerleigh</td>\n",
              "      <td>71.500000</td>\n",
              "    </tr>\n",
              "    <tr>\n",
              "      <th>219</th>\n",
              "      <td>Staten Island</td>\n",
              "      <td>Willowbrook</td>\n",
              "      <td>249.000000</td>\n",
              "    </tr>\n",
              "    <tr>\n",
              "      <th>220</th>\n",
              "      <td>Staten Island</td>\n",
              "      <td>Woodrow</td>\n",
              "      <td>700.000000</td>\n",
              "    </tr>\n",
              "  </tbody>\n",
              "</table>\n",
              "<p>221 rows × 3 columns</p>\n",
              "</div>"
            ],
            "text/plain": [
              "    neighbourhood_group  neighbourhood       price\n",
              "0                 Bronx       Allerton   87.595238\n",
              "1                 Bronx     Baychester   75.428571\n",
              "2                 Bronx        Belmont   77.125000\n",
              "3                 Bronx      Bronxdale   57.105263\n",
              "4                 Bronx    Castle Hill   63.000000\n",
              "..                  ...            ...         ...\n",
              "216       Staten Island    Tottenville  144.857143\n",
              "217       Staten Island  West Brighton   80.555556\n",
              "218       Staten Island    Westerleigh   71.500000\n",
              "219       Staten Island    Willowbrook  249.000000\n",
              "220       Staten Island        Woodrow  700.000000\n",
              "\n",
              "[221 rows x 3 columns]"
            ]
          },
          "metadata": {},
          "execution_count": 60
        }
      ]
    },
    {
      "cell_type": "code",
      "metadata": {
        "colab": {
          "base_uri": "https://localhost:8080/",
          "height": 204
        },
        "id": "zGZRIjYa-dss",
        "outputId": "b6dce65a-9d17-4ab3-c74d-65d865b5c3e6"
      },
      "source": [
        "z=ccc.sort_values('price',ascending=False).head()\n",
        "z   "
      ],
      "execution_count": 64,
      "outputs": [
        {
          "output_type": "execute_result",
          "data": {
            "text/html": [
              "<div>\n",
              "<style scoped>\n",
              "    .dataframe tbody tr th:only-of-type {\n",
              "        vertical-align: middle;\n",
              "    }\n",
              "\n",
              "    .dataframe tbody tr th {\n",
              "        vertical-align: top;\n",
              "    }\n",
              "\n",
              "    .dataframe thead th {\n",
              "        text-align: right;\n",
              "    }\n",
              "</style>\n",
              "<table border=\"1\" class=\"dataframe\">\n",
              "  <thead>\n",
              "    <tr style=\"text-align: right;\">\n",
              "      <th></th>\n",
              "      <th>neighbourhood_group</th>\n",
              "      <th>neighbourhood</th>\n",
              "      <th>price</th>\n",
              "    </tr>\n",
              "  </thead>\n",
              "  <tbody>\n",
              "    <tr>\n",
              "      <th>188</th>\n",
              "      <td>Staten Island</td>\n",
              "      <td>Fort Wadsworth</td>\n",
              "      <td>800.000000</td>\n",
              "    </tr>\n",
              "    <tr>\n",
              "      <th>220</th>\n",
              "      <td>Staten Island</td>\n",
              "      <td>Woodrow</td>\n",
              "      <td>700.000000</td>\n",
              "    </tr>\n",
              "    <tr>\n",
              "      <th>121</th>\n",
              "      <td>Manhattan</td>\n",
              "      <td>Tribeca</td>\n",
              "      <td>490.638418</td>\n",
              "    </tr>\n",
              "    <tr>\n",
              "      <th>88</th>\n",
              "      <td>Brooklyn</td>\n",
              "      <td>Sea Gate</td>\n",
              "      <td>487.857143</td>\n",
              "    </tr>\n",
              "    <tr>\n",
              "      <th>34</th>\n",
              "      <td>Bronx</td>\n",
              "      <td>Riverdale</td>\n",
              "      <td>442.090909</td>\n",
              "    </tr>\n",
              "  </tbody>\n",
              "</table>\n",
              "</div>"
            ],
            "text/plain": [
              "    neighbourhood_group   neighbourhood       price\n",
              "188       Staten Island  Fort Wadsworth  800.000000\n",
              "220       Staten Island         Woodrow  700.000000\n",
              "121           Manhattan         Tribeca  490.638418\n",
              "88             Brooklyn        Sea Gate  487.857143\n",
              "34                Bronx       Riverdale  442.090909"
            ]
          },
          "metadata": {},
          "execution_count": 64
        }
      ]
    },
    {
      "cell_type": "code",
      "metadata": {
        "id": "QiXxv5xE-xej"
      },
      "source": [
        ""
      ],
      "execution_count": null,
      "outputs": []
    }
  ]
}